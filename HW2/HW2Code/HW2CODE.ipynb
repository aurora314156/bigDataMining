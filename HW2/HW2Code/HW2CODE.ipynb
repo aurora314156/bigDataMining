{
 "cells": [
  {
   "cell_type": "code",
   "execution_count": 249,
   "metadata": {},
   "outputs": [],
   "source": [
    "import pandas as pd\n",
    "import math\n",
    "import csv\n",
    "from pyspark import SparkContext\n",
    "from pyspark.sql import SQLContext\n",
    "from pyspark.sql.functions \n",
    "from pyspark.sql import Row\n",
    "\n",
    "# read HW2 data by using spark context\n",
    "#textFile = sc.textFile(\"file:/home/ethan/pythonwork/ipynotebook/HW2/HW2Data/News_Final.csv\")\n",
    "\n",
    "# with open (\"/home/ethan/pythonwork/ipynotebook/HW2/HW2Data/News_Final.csv\",'r',encoding = 'utf8') as file:\n",
    "#     data = csv.reader(file,delimiter = \",\")\n",
    "#     dataset = list(data)\n",
    "# print(\"dataset long:\",len(dataset))\n",
    "\n",
    "#scDataSet = sc.parallelize(dataset)\n",
    "\n",
    "\n"
   ]
  },
  {
   "cell_type": "code",
   "execution_count": 250,
   "metadata": {},
   "outputs": [],
   "source": []
  },
  {
   "cell_type": "code",
   "execution_count": 325,
   "metadata": {},
   "outputs": [
    {
     "name": "stdout",
     "output_type": "stream",
     "text": [
      "\t****** obama ****** \n",
      "\n",
      "obama TotalScore : -15.74368631545492\n",
      "obama AveScore : -0.0005814842591119084 \n",
      "\n",
      "\t****** obama ****** \n",
      "\n",
      "\n",
      "\t****** economy ****** \n",
      "\n",
      "economy TotalScore : -336.9370044373353\n",
      "economy AveScore : -0.010475919672833234 \n",
      "\n",
      "\t****** economy ****** \n",
      "\n",
      "\n",
      "\t****** microsoft ****** \n",
      "\n",
      "microsoft TotalScore : 49.43849052234959\n",
      "microsoft AveScore : 0.002310425765134573 \n",
      "\n",
      "\t****** microsoft ****** \n",
      "\n",
      "\n",
      "\t****** palestine ****** \n",
      "\n",
      "palestine TotalScore : -164.48440896913712\n",
      "palestine AveScore : -0.019865266783712213 \n",
      "\n",
      "\t****** palestine ****** \n",
      "\n",
      "\n"
     ]
    }
   ],
   "source": [
    "# Q3 #\n",
    "topic = [\"obama\",\"economy\",\"microsoft\",\"palestine\"]\n",
    "\n",
    "\n",
    "#rdd = pd.read_csv('file:/home/ethan/pythonwork/ipynotebook/HW2/HW2Data/News_Final.csv')\n",
    "\n",
    "# input data by using sqlContext, split data by comma, and use header as dataFrame column name\n",
    "df = sqlContext.read.format('com.databricks.spark.csv').options(header='true', inferschema='true', sep=',').load(\"file:/home/ethan/pythonwork/ipynotebook/HW2/HW2Data/News_Final.csv\")\n",
    "\n",
    "# retrivel four topic\n",
    "for i in range(4):\n",
    "    print(\"\\t******\",topic[i],\"******\",\"\\n\")\n",
    "    # calcu\n",
    "    totalScore = df.filter(df['Topic']==topic[i]).select([sum('SentimentTitle')]).collect()\n",
    "    topicCount = df.filter(df['Topic']==topic[i]).count()\n",
    "    print(topic[i]+\" TotalScore :\",totalScore[0][0])\n",
    "    print(topic[i]+\" AveScore :\",totalScore[0][0]/topicCount,\"\\n\")\n",
    "    print(\"\\t******\",topic[i],\"******\",\"\\n\\n\")\n",
    "    \n",
    "# Q3 #\n",
    "\n",
    "    \n",
    "\n",
    "\n"
   ]
  },
  {
   "cell_type": "code",
   "execution_count": 345,
   "metadata": {},
   "outputs": [
    {
     "name": "stdout",
     "output_type": "stream",
     "text": [
      "file:/home/ethan/pythonwork/ipynotebook/HW2/HW2Data/Facebook_Economy.csv\n",
      "Finish\n",
      "file:/home/ethan/pythonwork/ipynotebook/HW2/HW2Data/Facebook_Microsoft.csv\n",
      "Finish\n",
      "file:/home/ethan/pythonwork/ipynotebook/HW2/HW2Data/Facebook_Obama.csv\n",
      "Finish\n",
      "file:/home/ethan/pythonwork/ipynotebook/HW2/HW2Data/Facebook_Palestine.csv\n",
      "Finish\n",
      "file:/home/ethan/pythonwork/ipynotebook/HW2/HW2Data/LinkedIn_Economy.csv\n",
      "Finish\n",
      "file:/home/ethan/pythonwork/ipynotebook/HW2/HW2Data/LinkedIn_Microsoft.csv\n",
      "Finish\n",
      "file:/home/ethan/pythonwork/ipynotebook/HW2/HW2Data/LinkedIn_Obama.csv\n",
      "Finish\n",
      "file:/home/ethan/pythonwork/ipynotebook/HW2/HW2Data/LinkedIn_Palestine.csv\n",
      "Finish\n"
     ]
    }
   ],
   "source": [
    "# Q2 Done#\n",
    "\n",
    "Facebook = [\"Facebook_Economy\",\"Facebook_Microsoft\",\"Facebook_Obama\",\"Facebook_Palestine\"]\n",
    "Google = [\"GooglePlus_Economy\",\"GooglePlus_Microsoft\",\"GooglePlus_Palestine\"]\n",
    "Linked = [\"LinkedIn_Economy\",\"LinkedIn_Microsoft\",\"LinkedIn_Obama\",\"LinkedIn_Palestine\"]\n",
    "\n",
    "# processing Q2 request\n",
    "def process(file):\n",
    "    for f in file:\n",
    "        # input data from csv by using spark context\n",
    "        rdd = sc.textFile(\"file:/home/ethan/pythonwork/ipynotebook/HW2/HW2Data/\"+f+\".csv\")\n",
    "        # remove header\n",
    "        header = rdd.first()\n",
    "        hrdd = rdd.filter(lambda x:x!= header)\n",
    "        \n",
    "        # retrivel all dataset, each time calculate one row\n",
    "        for i in hrdd.take(rdd.count()):\n",
    "            ID =0  # for remove IDLink\n",
    "            perDaySum = 0  # for sum score\n",
    "            # split row data by split comma\n",
    "            for j in i.split(\",\"):\n",
    "                if ID !=0:\n",
    "                    perDaySum +=float(j)\n",
    "                else:\n",
    "                    ID = float(j)\n",
    "            perDaySum = perDaySum - ID\n",
    "            #print(\"AveByHour :\",perDaySum/48)\n",
    "            #print(\"AveByDay :\",perDaySum/2)\n",
    "        print(\"Finish\")\n",
    "       \n",
    "        \n",
    "#process(Facebook)\n",
    "#process(Google)\n",
    "#process(Linked)\n",
    "\n",
    "\n",
    "# Q2 #"
   ]
  },
  {
   "cell_type": "code",
   "execution_count": null,
   "metadata": {},
   "outputs": [],
   "source": []
  },
  {
   "cell_type": "code",
   "execution_count": null,
   "metadata": {},
   "outputs": [],
   "source": []
  },
  {
   "cell_type": "code",
   "execution_count": null,
   "metadata": {},
   "outputs": [],
   "source": []
  },
  {
   "cell_type": "code",
   "execution_count": null,
   "metadata": {},
   "outputs": [],
   "source": []
  },
  {
   "cell_type": "code",
   "execution_count": null,
   "metadata": {},
   "outputs": [],
   "source": []
  },
  {
   "cell_type": "code",
   "execution_count": null,
   "metadata": {},
   "outputs": [],
   "source": []
  },
  {
   "cell_type": "code",
   "execution_count": null,
   "metadata": {},
   "outputs": [],
   "source": []
  },
  {
   "cell_type": "code",
   "execution_count": null,
   "metadata": {},
   "outputs": [],
   "source": []
  },
  {
   "cell_type": "code",
   "execution_count": null,
   "metadata": {},
   "outputs": [],
   "source": []
  }
 ],
 "metadata": {
  "kernelspec": {
   "display_name": "Python 3",
   "language": "python",
   "name": "python3"
  },
  "language_info": {
   "codemirror_mode": {
    "name": "ipython",
    "version": 3
   },
   "file_extension": ".py",
   "mimetype": "text/x-python",
   "name": "python",
   "nbconvert_exporter": "python",
   "pygments_lexer": "ipython3",
   "version": "3.6.4"
  }
 },
 "nbformat": 4,
 "nbformat_minor": 2
}
