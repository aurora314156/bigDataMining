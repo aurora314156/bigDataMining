{
 "cells": [
  {
   "cell_type": "code",
   "execution_count": 47,
   "metadata": {},
   "outputs": [],
   "source": [
    "import pandas as ad\n",
    "import csv\n",
    "\n",
    "# read HW2 data by using spark context\n",
    "textFile = sc.textFile(\"file:/home/ethan/pythonwork/ipynotebook/HW2/HW2Data/News_Final.csv\")\n",
    "\n",
    "# with open (\"/home/ethan/pythonwork/ipynotebook/HW2/HW2Data/News_Final.csv\",'r',encoding = 'utf8') as file:\n",
    "#     data = csv.reader(file,delimiter = \",\")\n",
    "#     dataset = list(data)\n",
    "# print(\"dataset long:\",len(dataset))\n",
    "\n",
    "#scDataSet = sc.parallelize(dataset)\n",
    "\n",
    "\n"
   ]
  },
  {
   "cell_type": "code",
   "execution_count": 48,
   "metadata": {},
   "outputs": [],
   "source": [
    "splitData = textFile.map(lambda line: line.split(\",\")).map(lambda line:(line[4],line[6],line[7]))"
   ]
  },
  {
   "cell_type": "code",
   "execution_count": 49,
   "metadata": {},
   "outputs": [
    {
     "name": "stdout",
     "output_type": "stream",
     "text": [
      "0\n",
      "[]\n"
     ]
    }
   ],
   "source": [
    "topic = [\"obama\",\"economy\",\"microsoft\",\"palestine\"]\n",
    "# calculate score \n",
    "#.map(lambda y:float(y))\n",
    "obamaScore = splitData.filter(lambda x:x==topic[0]).map(lambda line:line[1])\n",
    "print(obamaScore.count())\n",
    "print(obamaScore.take(5))\n",
    "#print(obamaScore.sum())\n",
    "#for t in range(len(topie)):\n",
    "#    columnData = "
   ]
  },
  {
   "cell_type": "code",
   "execution_count": null,
   "metadata": {},
   "outputs": [],
   "source": [
    "\n",
    "    "
   ]
  }
 ],
 "metadata": {
  "kernelspec": {
   "display_name": "Python 3",
   "language": "python",
   "name": "python3"
  }
 },
 "nbformat": 4,
 "nbformat_minor": 2
}
