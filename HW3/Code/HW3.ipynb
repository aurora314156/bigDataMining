{
 "cells": [
  {
   "cell_type": "code",
   "execution_count": 89,
   "metadata": {},
   "outputs": [],
   "source": [
    "import pandas as pd\n",
    "import numpy as np\n",
    "import math\n",
    "import csv\n",
    "import re\n",
    "import json\n",
    "import codecs\n",
    "from pyspark import SparkContext\n",
    "from pyspark.sql import SQLContext\n",
    "import pyspark.sql.functions \n",
    "from pyspark.sql import Row\n",
    "from collections import OrderedDict\n",
    "\n",
    "\n"
   ]
  },
  {
   "cell_type": "code",
   "execution_count": 90,
   "metadata": {},
   "outputs": [],
   "source": [
    "# parsing data from sgm file\n",
    "\n",
    "from bs4 import BeautifulSoup,SoupStrainer\n",
    "\n",
    "\n",
    "def readData():\n",
    "    print(\"paring start\")\n",
    "    cal = 0\n",
    "    file = [\"000\",\"001\",\"002\",\"003\",\"004\",\"005\",\"006\",\"007\",\"008\",\"009\",\"010\",\"011\",\"012\",\"013\",\"014\",\"015\",\"016\",\"017\",\"018\",\"019\",\"020\",\"021\"]\n",
    "    for i in range(len(file)):\n",
    "        fileName = \"/home/ethan/pythonwork/ipynotebook/HW3/Data/reut2-\"\n",
    "        fileName = fileName + file[i] + \".sgm\"\n",
    "        with codecs.open(fileName, \"r\", encoding='utf-8', errors='ignore') as data:\n",
    "            soup = BeautifulSoup(data, 'html.parser')\n",
    "            contents = soup.find_all('body')\n",
    "            for content in contents:\n",
    "                cal +=1\n",
    "#               print(content.get_text())\n",
    "            print(\"file\", i, \"processing done!\")\n",
    "    print(cal)\n",
    "    print(\"paring done\")    \n",
    "\n",
    "#readData()\n",
    "\n"
   ]
  },
  {
   "cell_type": "code",
   "execution_count": 91,
   "metadata": {},
   "outputs": [
    {
     "ename": "TypeError",
     "evalue": "translate() takes exactly one argument (2 given)",
     "output_type": "error",
     "traceback": [
      "\u001b[0;31m---------------------------------------------------------------------------\u001b[0m",
      "\u001b[0;31mTypeError\u001b[0m                                 Traceback (most recent call last)",
      "\u001b[0;32m<ipython-input-91-52b793b26c99>\u001b[0m in \u001b[0;36m<module>\u001b[0;34m()\u001b[0m\n\u001b[1;32m     17\u001b[0m         \u001b[0mprintedbodies\u001b[0m\u001b[0;34m[\u001b[0m\u001b[0mi\u001b[0m\u001b[0;34m]\u001b[0m \u001b[0;34m=\u001b[0m \u001b[0mbody\u001b[0m\u001b[0;34m\u001b[0m\u001b[0m\n\u001b[1;32m     18\u001b[0m         documents.append(\n\u001b[0;32m---> 19\u001b[0;31m             re.sub(' +', ' ', str(body).replace(\"<body>\", \"\").replace(\"</body>\", \"\").translate(None, string.punctuation).replace(\"\", \"\").replace(\"\\n\", \" \").lower()))\n\u001b[0m\u001b[1;32m     20\u001b[0m \u001b[0mprint\u001b[0m\u001b[0;34m(\u001b[0m\u001b[0mcal\u001b[0m\u001b[0;34m)\u001b[0m\u001b[0;34m\u001b[0m\u001b[0m\n\u001b[1;32m     21\u001b[0m \u001b[0mprint\u001b[0m\u001b[0;34m(\u001b[0m\u001b[0;34m'The number of documents read was: '\u001b[0m \u001b[0;34m+\u001b[0m \u001b[0mstr\u001b[0m\u001b[0;34m(\u001b[0m\u001b[0mlen\u001b[0m\u001b[0;34m(\u001b[0m\u001b[0mdocuments\u001b[0m\u001b[0;34m)\u001b[0m\u001b[0;34m)\u001b[0m\u001b[0;34m)\u001b[0m\u001b[0;34m\u001b[0m\u001b[0m\n",
      "\u001b[0;31mTypeError\u001b[0m: translate() takes exactly one argument (2 given)"
     ]
    }
   ],
   "source": [
    "# # test\n",
    "\n",
    "# printedbodies = {}\n",
    "# documents = []\n",
    "# file = [\"000\",\"001\",\"002\",\"003\",\"004\",\"005\",\"006\",\"007\",\"008\",\"009\",\"010\",\"011\",\"012\",\"013\",\"014\",\"015\",\"016\",\"017\",\"018\",\"019\",\"020\",\"021\"]\n",
    "# for i in range(len(file)):\n",
    "#     fileName = \"/home/ethan/pythonwork/ipynotebook/HW3/Data/reut2-\"\n",
    "#     fileName = fileName + file[i] + \".sgm\"\n",
    "    \n",
    "#     f = open(fileName, 'r')\n",
    "#     data = f.read()\n",
    "    \n",
    "#     soup = BeautifulSoup(data, \"html.parser\")\n",
    "#     bodies = soup.findAll('body')\n",
    "#     cal = 0\n",
    "#     for body in bodies:\n",
    "#         printedbodies[i] = body\n",
    "#         documents.append(\n",
    "#             re.sub(' +', ' ', str(body).replace(\"<body>\", \"\").replace(\"</body>\", \"\").translate(None, string.punctuation).replace(\"\", \"\").replace(\"\\n\", \" \").lower()))\n",
    "# print(cal)\n",
    "# print('The number of documents read was: ' + str(len(documents)))\n",
    "            \n",
    "\n",
    "\n"
   ]
  },
  {
   "cell_type": "code",
   "execution_count": null,
   "metadata": {},
   "outputs": [],
   "source": [
    "# Q1\n",
    "\n",
    "\n",
    "\n",
    "\n",
    "\n",
    "\n",
    "# Q1\n"
   ]
  }
 ],
 "metadata": {
  "kernelspec": {
   "display_name": "Python 3",
   "language": "python",
   "name": "python3"
  },
  "language_info": {
   "codemirror_mode": {
    "name": "ipython",
    "version": 3
   },
   "file_extension": ".py",
   "mimetype": "text/x-python",
   "name": "python",
   "nbconvert_exporter": "python",
   "pygments_lexer": "ipython3",
   "version": "3.6.4"
  }
 },
 "nbformat": 4,
 "nbformat_minor": 2
}
