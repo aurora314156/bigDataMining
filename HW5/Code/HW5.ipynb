{
 "cells": [
  {
   "cell_type": "code",
   "execution_count": 177,
   "metadata": {},
   "outputs": [],
   "source": [
    "# -*- coding:utf-8 -*-\n",
    "import pandas as pd\n",
    "import numpy as np\n",
    "import math\n",
    "import csv\n",
    "import re\n",
    "import json\n",
    "import time\n",
    "import os\n",
    "from pyspark import SparkContext\n",
    "from pyspark.sql import SQLContext\n",
    "import pyspark.sql.functions \n",
    "from pyspark.sql import Row\n",
    "from collections import OrderedDict\n"
   ]
  },
  {
   "cell_type": "code",
   "execution_count": 178,
   "metadata": {},
   "outputs": [],
   "source": [
    "# read data\n",
    "\n",
    "# data path get\n",
    "relationPath =  os.getcwd()\n",
    "dataPath = os.path.dirname(relationPath) + '/Data/web-Google.txt'\n",
    "# read Data by spark context\n",
    "data = sc.textFile(dataPath)\n",
    "\n",
    "# read data"
   ]
  },
  {
   "cell_type": "code",
   "execution_count": 179,
   "metadata": {},
   "outputs": [
    {
     "name": "stdout",
     "output_type": "stream",
     "text": [
      "Start process Q1\n",
      "['0', '0', '0', '0', '11342']\n",
      "<class 'list'>\n",
      "Q1 took: 5.05s\n",
      "Save Q1 ans took 1.57\n"
     ]
    }
   ],
   "source": [
    "# Q1\n",
    "\n",
    "# ==== initial setting ====\n",
    "sTime = time.time()\n",
    "# ==== initial setting ====\n",
    "\n",
    "\n",
    "print(\"Start process Q1\")\n",
    "# map data to rdd by spark\n",
    "rdd = data.map(lambda col:col.split()).map(lambda c:c[0])\n",
    "\n",
    "# count each node out-degree, then sort key-value with ascending by out-degree\n",
    "rd = sorted(rdd.countByValue().items(),key=lambda t: t[1], reverse=True)\n",
    "# for convenient save result\n",
    "cby = np.zeros((len(rd),2),int)\n",
    "# for convenient save result\n",
    "for i in range(len(rd)):\n",
    "    cby[i][0] = rd[i][0]\n",
    "    cby[i][1] = rd[i][1]\n",
    "    \n",
    "print(\"Q1 took: %.2fs\" % (time.time()-sTime))\n",
    "\n",
    "\n",
    "# save Q1 Result\n",
    "sTime = time.time()\n",
    "np.savetxt(\"Q1_Result.csv\", cby, delimiter=\",\")\n",
    "print(\"Save Q1 ans took %.2f\" % (time.time()-sTime))\n",
    "\n",
    "\n",
    "# Q1"
   ]
  },
  {
   "cell_type": "code",
   "execution_count": null,
   "metadata": {},
   "outputs": [],
   "source": [
    "# Q2\n",
    "\n",
    "\n",
    "# Q2"
   ]
  }
 ],
 "metadata": {
  "kernelspec": {
   "display_name": "Python 3",
   "language": "python",
   "name": "python3"
  },
  "language_info": {
   "codemirror_mode": {
    "name": "ipython",
    "version": 3
   },
   "file_extension": ".py",
   "mimetype": "text/x-python",
   "name": "python",
   "nbconvert_exporter": "python",
   "pygments_lexer": "ipython3",
   "version": "3.6.4"
  }
 },
 "nbformat": 4,
 "nbformat_minor": 2
}
