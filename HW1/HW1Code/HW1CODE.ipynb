{
 "cells": [
  {
   "cell_type": "code",
   "execution_count": 238,
   "metadata": {},
   "outputs": [],
   "source": [
    "import pandas as ad\n",
    "import csv\n",
    "\n",
    "# read HW1 data by using spark context\n",
    "textFile = sc.textFile(\"file:/home/ethan/pythonwork/ipynotebook/HW1/HW1Data/household_power_consumption.txt\")\n"
   ]
  },
  {
   "cell_type": "code",
   "execution_count": 239,
   "metadata": {},
   "outputs": [],
   "source": [
    "# split data by spark mapping\n",
    "splitedData = textFile.map ( lambda line : line.split (\";\"))"
   ]
  },
  {
   "cell_type": "code",
   "execution_count": 240,
   "metadata": {},
   "outputs": [],
   "source": [
    "# attribute setting\n",
    "attr = [\"Global_active_power\",\"Global_reactive_power\",\"Voltage\",\"Global_intensity\"]\n",
    "# normalization formula\n",
    "def normalization(x):\n",
    "    max = x.max()\n",
    "    min = x.min()\n",
    "    ans = x.map(lambda x: (x-min)/(max-min))\n",
    "    return ans"
   ]
  },
  {
   "cell_type": "code",
   "execution_count": 241,
   "metadata": {},
   "outputs": [
    {
     "name": "stdout",
     "output_type": "stream",
     "text": [
      "HW1 create success!\n"
     ]
    }
   ],
   "source": [
    "# retrivel useful attribute data then calculate minimun, maximum,and column number\n",
    "filename = \"HW1.txt\"\n",
    "with open(filename, 'a') as out:\n",
    "    for i in range(2,6):\n",
    "        columnData = splitedData.map(lambda attr:attr[i]).filter(lambda x:x!=attr[i-2] and x!=\"?\")\n",
    "        floatData = columnData.map(lambda x:float(x))\n",
    "        out.write(attr[i-2]+\":\\n\"+str(floatData.stats())+\"\\n\"+\"normalization:\"+str(normalization(floatData).collect())+\"\\n\")\n",
    "print(\"HW1 create success!\")"
   ]
  },
  {
   "cell_type": "code",
   "execution_count": null,
   "metadata": {},
   "outputs": [],
   "source": [
    "\n",
    "    "
   ]
  }
 ],
 "metadata": {
  "kernelspec": {
   "display_name": "Python 3",
   "language": "python",
   "name": "python3"
  },
  "language_info": {
   "codemirror_mode": {
    "name": "ipython",
    "version": 3
   },
   "file_extension": ".py",
   "mimetype": "text/x-python",
   "name": "python",
   "nbconvert_exporter": "python",
   "pygments_lexer": "ipython3",
   "version": "3.6.4"
  }
 },
 "nbformat": 4,
 "nbformat_minor": 2
}
