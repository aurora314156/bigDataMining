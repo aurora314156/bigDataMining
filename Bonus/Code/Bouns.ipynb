{
 "cells": [
  {
   "cell_type": "code",
   "execution_count": 1,
   "metadata": {},
   "outputs": [],
   "source": [
    "# import re\n",
    "import csv\n",
    "from operator import add\n",
    "import datetime\n",
    "import os"
   ]
  },
  {
   "cell_type": "code",
   "execution_count": 2,
   "metadata": {},
   "outputs": [],
   "source": [
    "# data path get\n",
    "relationPath =  os.getcwd()\n",
    "dataPath = os.path.dirname(relationPath) + '/Data/Crimes.csv'\n",
    "textFile = sc.textFile(dataPath)\n",
    "firstRow = textFile.first()\n",
    "AllColumn = textFile.filter( lambda x : x != firstRow ).map( lambda x : x.split(\",\") )"
   ]
  },
  {
   "cell_type": "code",
   "execution_count": 3,
   "metadata": {},
   "outputs": [
    {
     "name": "stdout",
     "output_type": "stream",
     "text": [
      "2018-06-29 01:24:46.157861\n",
      "B-1 Done.\n",
      "2018-06-29 01:25:27.450035\n"
     ]
    }
   ],
   "source": [
    "# Bouns - 1\n",
    "print(datetime.datetime.now())\n",
    "listPrimaryTypes = AllColumn.map( lambda x : ( x[5] , 1 ) ).reduceByKey( add ).sortBy( lambda x : -x[1] )\n",
    "listLocationDescriptions = AllColumn.map( lambda x : ( x[7] , 1 ) ).reduceByKey( add ).sortBy( lambda x : -x[1] )\n",
    "\n",
    "titlePrimaryType = [(\" PrimaryType \" , \" count \")]\n",
    "titleLocationDescription = [(\" LocationDescription \" , \" count \")]\n",
    "\n",
    "filename = \"Bouns_1_106598068.txt\"\n",
    "with open( filename, 'w', newline='') as out:\n",
    "    writer = csv.writer(out)\n",
    "    writer.writerows ( titlePrimaryType )\n",
    "    writer.writerows ( listPrimaryTypes.collect() )\n",
    "    writer.writerows ( titleLocationDescription )\n",
    "    writer.writerows ( listLocationDescriptions.collect() )\n",
    "print ( \"B-1 Done.\" )\n",
    "print(datetime.datetime.now())"
   ]
  },
  {
   "cell_type": "code",
   "execution_count": 4,
   "metadata": {
    "scrolled": true
   },
   "outputs": [
    {
     "name": "stdout",
     "output_type": "stream",
     "text": [
      "2018-06-29 01:25:27.480552\n",
      "B-2 Done.\n",
      "2018-06-29 01:50:23.275079\n"
     ]
    }
   ],
   "source": [
    "# Bouns - 2\n",
    "print(datetime.datetime.now())\n",
    "listLDs = listLocationDescriptions.map( lambda x : x[0] ).collect()\n",
    "\n",
    "for listLD in listLDs :\n",
    "    searchByLocationDescription = AllColumn.filter( lambda x : x[7] == listLD )\\\n",
    "                                           .map( lambda x : ( x[5] , 1 ) ).reduceByKey( add ).sortBy( lambda x : -x[1] )\n",
    "    titleTemp = [(\"LocationDescription\" , listLD)]\n",
    "    smallTitle = [(\"PrimaryType\" , \"count\")]\n",
    "    \n",
    "    filename = \"Bouns_2_106598068.txt\"\n",
    "    with open( filename, 'a+', newline='') as out:\n",
    "        writer = csv.writer(out)\n",
    "        writer.writerows ( titleTemp )\n",
    "        writer.writerows ( smallTitle )\n",
    "        writer.writerows ( searchByLocationDescription.collect() )\n",
    "print ( \"B-2 Done.\" )\n",
    "print(datetime.datetime.now())"
   ]
  },
  {
   "cell_type": "code",
   "execution_count": null,
   "metadata": {},
   "outputs": [
    {
     "name": "stdout",
     "output_type": "stream",
     "text": [
      "2018-06-29 01:50:23.473350\n",
      "B-3 Done.\n",
      "2018-06-29 01:54:56.796106\n"
     ]
    }
   ],
   "source": [
    "# Bouns - 3\n",
    "print(datetime.datetime.now())\n",
    "listPTs = listPrimaryTypes.map( lambda x : x[0] ).collect()\n",
    "\n",
    "for listPT in listPTs :\n",
    "    listPrimaryTypes = AllColumn.filter( lambda x : x[5] == listPT ).map( lambda x : x[3].split(\" \") )\\\n",
    "                                .filter( lambda x : x[-1] == 'ST' ).map( lambda x : ( x[2] , 1 ) ).reduceByKey( add )\\\n",
    "                                .sortBy( lambda x : -x[1] )\n",
    "    titleTemp = [(\"PrimaryType\" , listPT)]\n",
    "    smallTitle = [(\"Block\" , \"count\")]\n",
    "\n",
    "    filename = \"Bouns_3_106598068.txt\"\n",
    "    with open( filename, 'a+', newline='') as out:\n",
    "        writer = csv.writer(out)\n",
    "        writer.writerows ( titleTemp )\n",
    "        writer.writerows ( smallTitle )\n",
    "        writer.writerows ( listPrimaryTypes.collect() )\n",
    "print ( \"B-3 Done.\" )\n",
    "print(datetime.datetime.now())"
   ]
  },
  {
   "cell_type": "code",
   "execution_count": null,
   "metadata": {},
   "outputs": [
    {
     "name": "stdout",
     "output_type": "stream",
     "text": [
      "2018-06-29 01:54:56.957644\n",
      "B-4-1 Done.\n"
     ]
    }
   ],
   "source": [
    "# Bouns - 4\n",
    "import re\n",
    "filename = \"Bouns_4_106598068.txt\"\n",
    "\n",
    "print(datetime.datetime.now())\n",
    "listPTDates = AllColumn.map( lambda x : ( x[5] , x[2].split(\" \")) ).map( lambda x : (x[0] , x[1][1].split(\":\")) )\\\n",
    "                       .map( lambda x : ( x[0] , x[1][0] ) )\n",
    "\n",
    "for listPT in listPTs:\n",
    "    dataPTs = listPTDates.filter( lambda x : x[0] == listPT ).map( lambda x : ( x[1] , 1 ) ).reduceByKey( add )\\\n",
    "                         .sortBy( lambda x : -x[1] )\n",
    "    \n",
    "    titleTemp = [(\"PrimaryType\" , listPT)]\n",
    "    smallTitle = [(\"Hour\" , \"count\")]\n",
    "    \n",
    "    \n",
    "    with open( filename, 'a+', newline='') as out:\n",
    "        writer = csv.writer(out)\n",
    "        writer.writerows ( titleTemp )\n",
    "        writer.writerows ( smallTitle )\n",
    "        writer.writerows ( dataPTs.collect() )\n",
    "print ( \"B-4-1 Done.\" )\n",
    "\n",
    "listLDDates = AllColumn.map( lambda x : ( x[7] , x[2].split(\" \")) ).map( lambda x : (x[0] , x[1][1].split(\":\")) )\\\n",
    "                       .map( lambda x : ( x[0] , x[1][0] ) )\n",
    "\n",
    "for listLD in listLDs:\n",
    "    dataLDs = listLDDates.filter( lambda x : x[0] == listLD ).map( lambda x : ( x[1] , 1 ) ).reduceByKey( add )\\\n",
    "                         .sortBy( lambda x : -x[1] )\n",
    "    \n",
    "    titleTemp = [(\"LocationDescription\" , listLD)]\n",
    "    smallTitle = [(\"Hour\" , \"count\")]\n",
    "    \n",
    "    with open( filename, 'a+', newline='') as out:\n",
    "        writer = csv.writer(out)\n",
    "        writer.writerows ( titleTemp )\n",
    "        writer.writerows ( smallTitle )\n",
    "        writer.writerows ( dataLDs.collect() )\n",
    "print ( \"B-4-2 Done.\" )\n",
    "print(datetime.datetime.now())"
   ]
  },
  {
   "cell_type": "code",
   "execution_count": null,
   "metadata": {},
   "outputs": [],
   "source": [
    "import datetime\n",
    "print(datetime.datetime.now())"
   ]
  },
  {
   "cell_type": "code",
   "execution_count": null,
   "metadata": {},
   "outputs": [],
   "source": []
  }
 ],
 "metadata": {
  "kernelspec": {
   "display_name": "Python 3",
   "language": "python",
   "name": "python3"
  },
  "language_info": {
   "codemirror_mode": {
    "name": "ipython",
    "version": 3
   },
   "file_extension": ".py",
   "mimetype": "text/x-python",
   "name": "python",
   "nbconvert_exporter": "python",
   "pygments_lexer": "ipython3",
   "version": "3.6.4"
  }
 },
 "nbformat": 4,
 "nbformat_minor": 2
}
